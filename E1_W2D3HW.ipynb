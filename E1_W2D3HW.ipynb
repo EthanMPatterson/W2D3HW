{
 "cells": [
  {
   "cell_type": "code",
   "execution_count": 2,
   "metadata": {},
   "outputs": [
    {
     "name": "stdout",
     "output_type": "stream",
     "text": [
      "[-32, -56, -97, -352, -429, -486, -700, -900, -940, -1001]\n"
     ]
    }
   ],
   "source": [
    "def negate(nums):\n",
    "    for i in range(len(nums)):\n",
    "        if nums [i] > 0:\n",
    "            nums [i] = -nums[i]\n",
    "    print(nums)\n",
    "\n",
    "negate([32,56,97,352, 429, 486,700,900,940,1001])"
   ]
  },
  {
   "cell_type": "markdown",
   "metadata": {},
   "source": [
    "Converted to List Comp"
   ]
  },
  {
   "cell_type": "code",
   "execution_count": 10,
   "metadata": {},
   "outputs": [
    {
     "name": "stdout",
     "output_type": "stream",
     "text": [
      "[-32, -56, -97, -352, -429, -486, -700, -900, -940, -1001]\n"
     ]
    }
   ],
   "source": [
    "\n",
    "def negate(nums):\n",
    "    nums = [num*-1 if num > 0 else num for num in nums]\n",
    "    print(nums)\n",
    "\n",
    "negate([32,56,97,352, 429, 486,700,900,940,1001])"
   ]
  },
  {
   "cell_type": "code",
   "execution_count": null,
   "metadata": {},
   "outputs": [],
   "source": []
  }
 ],
 "metadata": {
  "kernelspec": {
   "display_name": "Python 3",
   "language": "python",
   "name": "python3"
  },
  "language_info": {
   "codemirror_mode": {
    "name": "ipython",
    "version": 3
   },
   "file_extension": ".py",
   "mimetype": "text/x-python",
   "name": "python",
   "nbconvert_exporter": "python",
   "pygments_lexer": "ipython3",
   "version": "3.12.2"
  }
 },
 "nbformat": 4,
 "nbformat_minor": 2
}
